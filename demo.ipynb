{
 "cells": [
  {
   "cell_type": "code",
   "execution_count": 1,
   "metadata": {},
   "outputs": [],
   "source": [
    "from Federate import Simulator"
   ]
  },
  {
   "cell_type": "code",
   "execution_count": 2,
   "metadata": {},
   "outputs": [
    {
     "name": "stderr",
     "output_type": "stream",
     "text": [
      "Failed to detect the name of this notebook, you can set it manually with the WANDB_NOTEBOOK_NAME environment variable to enable code saving.\n",
      "\u001b[34m\u001b[1mwandb\u001b[0m: Currently logged in as: \u001b[33mphy\u001b[0m. Use \u001b[1m`wandb login --relogin`\u001b[0m to force relogin\n"
     ]
    }
   ],
   "source": [
    "simulator = Simulator(\n",
    "    'sample.yaml', 'iid_noisy_mnist')"
   ]
  },
  {
   "cell_type": "code",
   "execution_count": 3,
   "metadata": {},
   "outputs": [],
   "source": [
    "simulator.cfg['alpha'] = 0\n",
    "simulator.cfg['imbalanced_ratio'] = 0\n",
    "simulator.cfg['corruption_prob'] = 0.3"
   ]
  },
  {
   "cell_type": "code",
   "execution_count": 4,
   "metadata": {},
   "outputs": [
    {
     "data": {
      "text/plain": [
       "{'saving_dir': 'experiments_1',\n",
       " 'dataset': 'MNIST',\n",
       " 'split': 'iid',\n",
       " 'alpha': 0,\n",
       " 'num_clients': 10,\n",
       " 'imbalanced_ratio': 0,\n",
       " 'corruption_prob': 0.3,\n",
       " 'algorithm': 'FedAvg',\n",
       " 'model': 'ConvNet2',\n",
       " 'use_gpu': True,\n",
       " 'epoch': 10,\n",
       " 'batch_size': 128,\n",
       " 'test_batch_size': 1024,\n",
       " 'lr': 0.001,\n",
       " 'local_round': 5,\n",
       " 'num_clients_per_round': 5}"
      ]
     },
     "execution_count": 4,
     "metadata": {},
     "output_type": "execute_result"
    }
   ],
   "source": [
    "simulator.cfg"
   ]
  },
  {
   "cell_type": "code",
   "execution_count": 5,
   "metadata": {},
   "outputs": [
    {
     "name": "stdout",
     "output_type": "stream",
     "text": [
      "Splitting dataset into 10 clients.\n",
      "{0: 6000, 1: 6000, 2: 6000, 3: 6000, 4: 6000, 5: 6000, 6: 6000, 7: 6000, 8: 6000, 9: 6000}\n"
     ]
    },
    {
     "data": {
      "text/html": [
       "wandb version 0.13.0 is available!  To upgrade, please run:\n",
       " $ pip install wandb --upgrade"
      ],
      "text/plain": [
       "<IPython.core.display.HTML object>"
      ]
     },
     "metadata": {},
     "output_type": "display_data"
    },
    {
     "data": {
      "text/html": [
       "Tracking run with wandb version 0.12.16"
      ],
      "text/plain": [
       "<IPython.core.display.HTML object>"
      ]
     },
     "metadata": {},
     "output_type": "display_data"
    },
    {
     "data": {
      "text/html": [
       "Run data is saved locally in <code>c:\\Users\\HONGYI001\\Desktop\\Metanet-Motivation\\wandb\\run-20220804_134908-2tgpv2bx</code>"
      ],
      "text/plain": [
       "<IPython.core.display.HTML object>"
      ]
     },
     "metadata": {},
     "output_type": "display_data"
    },
    {
     "data": {
      "text/html": [
       "Syncing run <strong><a href=\"https://wandb.ai/phy/iid_noisy_mnist/runs/2tgpv2bx\" target=\"_blank\">dazzling-darkness-5</a></strong> to <a href=\"https://wandb.ai/phy/iid_noisy_mnist\" target=\"_blank\">Weights & Biases</a> (<a href=\"https://wandb.me/run\" target=\"_blank\">docs</a>)<br/>"
      ],
      "text/plain": [
       "<IPython.core.display.HTML object>"
      ]
     },
     "metadata": {},
     "output_type": "display_data"
    },
    {
     "name": "stdout",
     "output_type": "stream",
     "text": [
      "Training Starts!\n",
      "Saving the first global model...\n",
      "Round 1: Selected Clients: [3 0 9 4 6]\n",
      "\n",
      "Client 3 was selected. Start Local Training.\n"
     ]
    },
    {
     "name": "stderr",
     "output_type": "stream",
     "text": [
      "100%|██████████| 47/47 [00:03<00:00, 14.33it/s, Epoch: 0 Loss: 104.296 ]\n",
      "100%|██████████| 47/47 [00:00<00:00, 49.05it/s, Epoch: 1 Loss: 96.851 ]\n",
      "100%|██████████| 47/47 [00:00<00:00, 51.30it/s, Epoch: 2 Loss: 90.646 ]\n",
      "100%|██████████| 47/47 [00:00<00:00, 51.75it/s, Epoch: 3 Loss: 85.472 ]\n",
      "100%|██████████| 47/47 [00:00<00:00, 48.48it/s, Epoch: 4 Loss: 81.147 ]\n"
     ]
    },
    {
     "name": "stdout",
     "output_type": "stream",
     "text": [
      "\n",
      "Client 0 was selected. Start Local Training.\n"
     ]
    },
    {
     "name": "stderr",
     "output_type": "stream",
     "text": [
      "100%|██████████| 47/47 [00:00<00:00, 52.00it/s, Epoch: 0 Loss: 104.282 ]\n",
      "100%|██████████| 47/47 [00:00<00:00, 51.34it/s, Epoch: 1 Loss: 96.716 ]\n",
      "100%|██████████| 47/47 [00:00<00:00, 51.67it/s, Epoch: 2 Loss: 90.407 ]\n",
      "100%|██████████| 47/47 [00:00<00:00, 51.66it/s, Epoch: 3 Loss: 85.127 ]\n",
      "100%|██████████| 47/47 [00:00<00:00, 52.14it/s, Epoch: 4 Loss: 80.773 ]\n"
     ]
    },
    {
     "name": "stdout",
     "output_type": "stream",
     "text": [
      "\n",
      "Client 9 was selected. Start Local Training.\n"
     ]
    },
    {
     "name": "stderr",
     "output_type": "stream",
     "text": [
      "100%|██████████| 47/47 [00:00<00:00, 49.13it/s, Epoch: 0 Loss: 104.061 ]\n",
      "100%|██████████| 47/47 [00:00<00:00, 49.92it/s, Epoch: 1 Loss: 95.842 ]\n",
      "100%|██████████| 47/47 [00:00<00:00, 50.75it/s, Epoch: 2 Loss: 88.999 ]\n",
      "100%|██████████| 47/47 [00:00<00:00, 49.72it/s, Epoch: 3 Loss: 83.326 ]\n",
      "100%|██████████| 47/47 [00:00<00:00, 50.83it/s, Epoch: 4 Loss: 78.747 ]\n"
     ]
    },
    {
     "name": "stdout",
     "output_type": "stream",
     "text": [
      "\n",
      "Client 4 was selected. Start Local Training.\n"
     ]
    },
    {
     "name": "stderr",
     "output_type": "stream",
     "text": [
      "100%|██████████| 47/47 [00:00<00:00, 50.91it/s, Epoch: 0 Loss: 104.459 ]\n",
      "100%|██████████| 47/47 [00:00<00:00, 49.92it/s, Epoch: 1 Loss: 97.265 ]\n",
      "100%|██████████| 47/47 [00:00<00:00, 50.65it/s, Epoch: 2 Loss: 91.292 ]\n",
      "100%|██████████| 47/47 [00:00<00:00, 52.00it/s, Epoch: 3 Loss: 86.357 ]\n",
      "100%|██████████| 47/47 [00:00<00:00, 51.30it/s, Epoch: 4 Loss: 82.288 ]\n"
     ]
    },
    {
     "name": "stdout",
     "output_type": "stream",
     "text": [
      "\n",
      "Client 6 was selected. Start Local Training.\n"
     ]
    },
    {
     "name": "stderr",
     "output_type": "stream",
     "text": [
      "100%|██████████| 47/47 [00:00<00:00, 52.08it/s, Epoch: 0 Loss: 104.663 ]\n",
      "100%|██████████| 47/47 [00:00<00:00, 49.66it/s, Epoch: 1 Loss: 97.579 ]\n",
      "100%|██████████| 47/47 [00:00<00:00, 47.64it/s, Epoch: 2 Loss: 91.647 ]\n",
      "100%|██████████| 47/47 [00:00<00:00, 51.41it/s, Epoch: 3 Loss: 86.659 ]\n",
      "100%|██████████| 47/47 [00:00<00:00, 51.05it/s, Epoch: 4 Loss: 82.569 ]\n"
     ]
    },
    {
     "data": {
      "text/html": [
       "Waiting for W&B process to finish... <strong style=\"color:red\">(failed 1).</strong> Press Ctrl-C to abort syncing."
      ],
      "text/plain": [
       "<IPython.core.display.HTML object>"
      ]
     },
     "metadata": {},
     "output_type": "display_data"
    },
    {
     "data": {
      "application/vnd.jupyter.widget-view+json": {
       "model_id": "0cc802cc15614880a2d1dfefd87eee13",
       "version_major": 2,
       "version_minor": 0
      },
      "text/plain": [
       "VBox(children=(Label(value='0.001 MB of 0.001 MB uploaded (0.000 MB deduped)\\r'), FloatProgress(value=1.0, max…"
      ]
     },
     "metadata": {},
     "output_type": "display_data"
    },
    {
     "data": {
      "text/html": [
       "<style>\n",
       "    table.wandb td:nth-child(1) { padding: 0 10px; text-align: left ; width: auto;} td:nth-child(2) {text-align: left ; width: 100%}\n",
       "    .wandb-row { display: flex; flex-direction: row; flex-wrap: wrap; justify-content: flex-start; width: 100% }\n",
       "    .wandb-col { display: flex; flex-direction: column; flex-basis: 100%; flex: 1; padding: 10px; }\n",
       "    </style>\n",
       "<div class=\"wandb-row\"><div class=\"wandb-col\"><h3>Run history:</h3><br/><table class=\"wandb\"><tr><td>Communication Cost</td><td>▁</td></tr><tr><td>Selected Clients 0</td><td>▁</td></tr><tr><td>Selected Clients 1</td><td>▁</td></tr><tr><td>Selected Clients 2</td><td>▁</td></tr><tr><td>Selected Clients 3</td><td>▁</td></tr><tr><td>Selected Clients 4</td><td>▁</td></tr><tr><td>Selected Clients 5</td><td>▁</td></tr><tr><td>Selected Clients 6</td><td>▁</td></tr><tr><td>Selected Clients 7</td><td>▁</td></tr><tr><td>Selected Clients 8</td><td>▁</td></tr><tr><td>Selected Clients 9</td><td>▁</td></tr></table><br/></div><div class=\"wandb-col\"><h3>Run summary:</h3><br/><table class=\"wandb\"><tr><td>Communication Cost</td><td>123.95439</td></tr><tr><td>Selected Clients 0</td><td>0</td></tr><tr><td>Selected Clients 1</td><td>0</td></tr><tr><td>Selected Clients 2</td><td>0</td></tr><tr><td>Selected Clients 3</td><td>0</td></tr><tr><td>Selected Clients 4</td><td>0</td></tr><tr><td>Selected Clients 5</td><td>81.14704</td></tr><tr><td>Selected Clients 6</td><td>80.77315</td></tr><tr><td>Selected Clients 7</td><td>78.74665</td></tr><tr><td>Selected Clients 8</td><td>82.28805</td></tr><tr><td>Selected Clients 9</td><td>82.56915</td></tr></table><br/></div></div>"
      ],
      "text/plain": [
       "<IPython.core.display.HTML object>"
      ]
     },
     "metadata": {},
     "output_type": "display_data"
    },
    {
     "data": {
      "text/html": [
       "Synced <strong style=\"color:#cdcd00\">dazzling-darkness-5</strong>: <a href=\"https://wandb.ai/phy/iid_noisy_mnist/runs/2tgpv2bx\" target=\"_blank\">https://wandb.ai/phy/iid_noisy_mnist/runs/2tgpv2bx</a><br/>Synced 5 W&B file(s), 0 media file(s), 0 artifact file(s) and 0 other file(s)"
      ],
      "text/plain": [
       "<IPython.core.display.HTML object>"
      ]
     },
     "metadata": {},
     "output_type": "display_data"
    },
    {
     "data": {
      "text/html": [
       "Find logs at: <code>.\\wandb\\run-20220804_134908-2tgpv2bx\\logs</code>"
      ],
      "text/plain": [
       "<IPython.core.display.HTML object>"
      ]
     },
     "metadata": {},
     "output_type": "display_data"
    },
    {
     "ename": "TypeError",
     "evalue": "Data row contained incompatible types:\n{'epoch': 0, 'id': 3, 'conv1.weight': array(0.02407838, dtype=float32), 'conv1.bias': array(6.269157e-10, dtype=float32), 'conv2.weight': array(0.13064592, dtype=float32), 'conv2.bias': array(0., dtype=float32), 'bn1.weight': array(0.00301561, dtype=float32), 'bn1.bias': array(0.00144337, dtype=float32), 'bn1.running_mean': array(0.60411423, dtype=float32), 'bn1.running_var': array(5.491777, dtype=float32), 'bn1.num_batches_tracked': array(235., dtype=float32), 'bn2.weight': array(0.00856509, dtype=float32), 'bn2.bias': array(0.00348357, dtype=float32), 'bn2.running_mean': array(2.4146516, dtype=float32), 'bn2.running_var': array(5.9799104, dtype=float32), 'bn2.num_batches_tracked': array(235., dtype=float32), 'fc1.weight': array(0.27688444, dtype=float32), 'fc1.bias': array(0.00325673, dtype=float32), 'fc2.weight': array(0.19040689, dtype=float32), 'fc2.bias': array(0.00381863, dtype=float32)} of type {'epoch': Number, 'id': Number, 'conv1.weight': Ndarray(shape:[]), 'conv1.bias': Ndarray(shape:[]), 'conv2.weight': Ndarray(shape:[]), 'conv2.bias': Ndarray(shape:[]), 'bn1.weight': Ndarray(shape:[]), 'bn1.bias': Ndarray(shape:[]), 'bn1.running_mean': Ndarray(shape:[]), 'bn1.running_var': Ndarray(shape:[]), 'bn1.num_batches_tracked': Ndarray(shape:[]), 'bn2.weight': Ndarray(shape:[]), 'bn2.bias': Ndarray(shape:[]), 'bn2.running_mean': Ndarray(shape:[]), 'bn2.running_var': Ndarray(shape:[]), 'bn2.num_batches_tracked': Ndarray(shape:[]), 'fc1.weight': Ndarray(shape:[]), 'fc1.bias': Ndarray(shape:[]), 'fc2.weight': Ndarray(shape:[]), 'fc2.bias': Ndarray(shape:[])} is not assignable to {'epoch': None or Number, 'id': None or String, 'conv1.weight': None or Number, 'conv1.bias': None or Number, 'conv2.weight': None or Number, 'conv2.bias': None or Number, 'bn1.weight': None or Number, 'bn1.bias': None or Number, 'bn1.running_mean': None or Number, 'bn1.running_var': None or Number, 'bn1.num_batches_tracked': None or Number, 'bn2.weight': None or Number, 'bn2.bias': None or Number, 'bn2.running_mean': None or Number, 'bn2.running_var': None or Number, 'bn2.num_batches_tracked': None or Number, 'fc1.weight': None or Number, 'fc1.bias': None or Number, 'fc2.weight': None or Number, 'fc2.bias': None or Number}\nKey 'id':\n\tNumber not assignable to None or String\n\t\tNumber not assignable to None\n\tand\n\t\tNumber not assignable to String\nKey 'conv1.weight':\n\tNdarray(shape:[]) not assignable to None or Number\n\t\tNdarray(shape:[]) not assignable to None\n\tand\n\t\tNdarray(shape:[]) not assignable to Number\nKey 'conv1.bias':\n\tNdarray(shape:[]) not assignable to None or Number\n\t\tNdarray(shape:[]) not assignable to None\n\tand\n\t\tNdarray(shape:[]) not assignable to Number\nKey 'conv2.weight':\n\tNdarray(shape:[]) not assignable to None or Number\n\t\tNdarray(shape:[]) not assignable to None\n\tand\n\t\tNdarray(shape:[]) not assignable to Number\nKey 'conv2.bias':\n\tNdarray(shape:[]) not assignable to None or Number\n\t\tNdarray(shape:[]) not assignable to None\n\tand\n\t\tNdarray(shape:[]) not assignable to Number\nKey 'bn1.weight':\n\tNdarray(shape:[]) not assignable to None or Number\n\t\tNdarray(shape:[]) not assignable to None\n\tand\n\t\tNdarray(shape:[]) not assignable to Number\nKey 'bn1.bias':\n\tNdarray(shape:[]) not assignable to None or Number\n\t\tNdarray(shape:[]) not assignable to None\n\tand\n\t\tNdarray(shape:[]) not assignable to Number\nKey 'bn1.running_mean':\n\tNdarray(shape:[]) not assignable to None or Number\n\t\tNdarray(shape:[]) not assignable to None\n\tand\n\t\tNdarray(shape:[]) not assignable to Number\nKey 'bn1.running_var':\n\tNdarray(shape:[]) not assignable to None or Number\n\t\tNdarray(shape:[]) not assignable to None\n\tand\n\t\tNdarray(shape:[]) not assignable to Number\nKey 'bn1.num_batches_tracked':\n\tNdarray(shape:[]) not assignable to None or Number\n\t\tNdarray(shape:[]) not assignable to None\n\tand\n\t\tNdarray(shape:[]) not assignable to Number\nKey 'bn2.weight':\n\tNdarray(shape:[]) not assignable to None or Number\n\t\tNdarray(shape:[]) not assignable to None\n\tand\n\t\tNdarray(shape:[]) not assignable to Number\nKey 'bn2.bias':\n\tNdarray(shape:[]) not assignable to None or Number\n\t\tNdarray(shape:[]) not assignable to None\n\tand\n\t\tNdarray(shape:[]) not assignable to Number\nKey 'bn2.running_mean':\n\tNdarray(shape:[]) not assignable to None or Number\n\t\tNdarray(shape:[]) not assignable to None\n\tand\n\t\tNdarray(shape:[]) not assignable to Number\nKey 'bn2.running_var':\n\tNdarray(shape:[]) not assignable to None or Number\n\t\tNdarray(shape:[]) not assignable to None\n\tand\n\t\tNdarray(shape:[]) not assignable to Number\nKey 'bn2.num_batches_tracked':\n\tNdarray(shape:[]) not assignable to None or Number\n\t\tNdarray(shape:[]) not assignable to None\n\tand\n\t\tNdarray(shape:[]) not assignable to Number\nKey 'fc1.weight':\n\tNdarray(shape:[]) not assignable to None or Number\n\t\tNdarray(shape:[]) not assignable to None\n\tand\n\t\tNdarray(shape:[]) not assignable to Number\nKey 'fc1.bias':\n\tNdarray(shape:[]) not assignable to None or Number\n\t\tNdarray(shape:[]) not assignable to None\n\tand\n\t\tNdarray(shape:[]) not assignable to Number\nKey 'fc2.weight':\n\tNdarray(shape:[]) not assignable to None or Number\n\t\tNdarray(shape:[]) not assignable to None\n\tand\n\t\tNdarray(shape:[]) not assignable to Number\nKey 'fc2.bias':\n\tNdarray(shape:[]) not assignable to None or Number\n\t\tNdarray(shape:[]) not assignable to None\n\tand\n\t\tNdarray(shape:[]) not assignable to Number",
     "output_type": "error",
     "traceback": [
      "\u001b[1;31m---------------------------------------------------------------------------\u001b[0m",
      "\u001b[1;31mTypeError\u001b[0m                                 Traceback (most recent call last)",
      "\u001b[1;32mc:\\Users\\HONGYI001\\Desktop\\Metanet-Motivation\\demo.ipynb Cell 5\u001b[0m in \u001b[0;36m<cell line: 1>\u001b[1;34m()\u001b[0m\n\u001b[1;32m----> <a href='vscode-notebook-cell:/c%3A/Users/HONGYI001/Desktop/Metanet-Motivation/demo.ipynb#ch0000006?line=0'>1</a>\u001b[0m simulator\u001b[39m.\u001b[39;49mrun()\n",
      "File \u001b[1;32mc:\\Users\\HONGYI001\\Desktop\\Metanet-Motivation\\Federate.py:21\u001b[0m, in \u001b[0;36mSimulator.run\u001b[1;34m(self)\u001b[0m\n\u001b[0;32m     17\u001b[0m \u001b[39mwith\u001b[39;00m wandb\u001b[39m.\u001b[39minit(project\u001b[39m=\u001b[39m\u001b[39mself\u001b[39m\u001b[39m.\u001b[39mproject_name, config\u001b[39m=\u001b[39m\u001b[39mself\u001b[39m\u001b[39m.\u001b[39mcfg):\n\u001b[0;32m     18\u001b[0m     trainer \u001b[39m=\u001b[39m Trainer\u001b[39m.\u001b[39mLocalTrainer(\n\u001b[0;32m     19\u001b[0m         model, client_data_idx_map, trainset, testset, \n\u001b[0;32m     20\u001b[0m         \u001b[39mself\u001b[39m\u001b[39m.\u001b[39mcfg)\n\u001b[1;32m---> 21\u001b[0m     trainer\u001b[39m.\u001b[39;49mtrain()\n\u001b[0;32m     22\u001b[0m     trainer\u001b[39m.\u001b[39mevaluate()\n",
      "File \u001b[1;32mc:\\Users\\HONGYI001\\Desktop\\Metanet-Motivation\\Trainer.py:145\u001b[0m, in \u001b[0;36mLocalTrainer.train\u001b[1;34m(self)\u001b[0m\n\u001b[0;32m    143\u001b[0m     row \u001b[39m=\u001b[39m \u001b[39mlist\u001b[39m(layerwise_diff(params, global_model_params)\u001b[39m.\u001b[39mvalues())\n\u001b[0;32m    144\u001b[0m     row \u001b[39m=\u001b[39m [e, \u001b[39mid\u001b[39m] \u001b[39m+\u001b[39m row\n\u001b[1;32m--> 145\u001b[0m     \u001b[39mself\u001b[39;49m\u001b[39m.\u001b[39;49mtable\u001b[39m.\u001b[39;49madd_data(\u001b[39m*\u001b[39;49mrow)\n\u001b[0;32m    146\u001b[0m wandb\u001b[39m.\u001b[39mlog({\u001b[39m'\u001b[39m\u001b[39mlayerwise_diff\u001b[39m\u001b[39m'\u001b[39m: \u001b[39mself\u001b[39m\u001b[39m.\u001b[39mtable})  \n\u001b[0;32m    147\u001b[0m global_params \u001b[39m=\u001b[39m FedAvg\u001b[39m.\u001b[39maggregate(params_dict)\n",
      "File \u001b[1;32mc:\\Users\\HONGYI001\\Anaconda3\\envs\\VFL\\lib\\site-packages\\wandb\\data_types.py:465\u001b[0m, in \u001b[0;36mTable.add_data\u001b[1;34m(self, *data)\u001b[0m\n\u001b[0;32m    458\u001b[0m         \u001b[39mself\u001b[39m\u001b[39m.\u001b[39mcast(\n\u001b[0;32m    459\u001b[0m             \u001b[39mself\u001b[39m\u001b[39m.\u001b[39mcolumns[ndx],\n\u001b[0;32m    460\u001b[0m             _dtypes\u001b[39m.\u001b[39mTypeRegistry\u001b[39m.\u001b[39mtype_of(item),\n\u001b[0;32m    461\u001b[0m             optional\u001b[39m=\u001b[39m\u001b[39mFalse\u001b[39;00m,\n\u001b[0;32m    462\u001b[0m         )\n\u001b[0;32m    464\u001b[0m \u001b[39m# Update the table's column types\u001b[39;00m\n\u001b[1;32m--> 465\u001b[0m result_type \u001b[39m=\u001b[39m \u001b[39mself\u001b[39;49m\u001b[39m.\u001b[39;49m_get_updated_result_type(data)\n\u001b[0;32m    466\u001b[0m \u001b[39mself\u001b[39m\u001b[39m.\u001b[39m_column_types \u001b[39m=\u001b[39m result_type\n\u001b[0;32m    468\u001b[0m \u001b[39m# rows need to be mutable\u001b[39;00m\n",
      "File \u001b[1;32mc:\\Users\\HONGYI001\\Anaconda3\\envs\\VFL\\lib\\site-packages\\wandb\\data_types.py:486\u001b[0m, in \u001b[0;36mTable._get_updated_result_type\u001b[1;34m(self, row)\u001b[0m\n\u001b[0;32m    484\u001b[0m result_type \u001b[39m=\u001b[39m current_type\u001b[39m.\u001b[39massign(incoming_row_dict)\n\u001b[0;32m    485\u001b[0m \u001b[39mif\u001b[39;00m \u001b[39misinstance\u001b[39m(result_type, _dtypes\u001b[39m.\u001b[39mInvalidType):\n\u001b[1;32m--> 486\u001b[0m     \u001b[39mraise\u001b[39;00m \u001b[39mTypeError\u001b[39;00m(\n\u001b[0;32m    487\u001b[0m         \u001b[39m\"\u001b[39m\u001b[39mData row contained incompatible types:\u001b[39m\u001b[39m\\n\u001b[39;00m\u001b[39m{}\u001b[39;00m\u001b[39m\"\u001b[39m\u001b[39m.\u001b[39mformat(\n\u001b[0;32m    488\u001b[0m             current_type\u001b[39m.\u001b[39mexplain(incoming_row_dict)\n\u001b[0;32m    489\u001b[0m         )\n\u001b[0;32m    490\u001b[0m     )\n\u001b[0;32m    491\u001b[0m \u001b[39mreturn\u001b[39;00m result_type\n",
      "\u001b[1;31mTypeError\u001b[0m: Data row contained incompatible types:\n{'epoch': 0, 'id': 3, 'conv1.weight': array(0.02407838, dtype=float32), 'conv1.bias': array(6.269157e-10, dtype=float32), 'conv2.weight': array(0.13064592, dtype=float32), 'conv2.bias': array(0., dtype=float32), 'bn1.weight': array(0.00301561, dtype=float32), 'bn1.bias': array(0.00144337, dtype=float32), 'bn1.running_mean': array(0.60411423, dtype=float32), 'bn1.running_var': array(5.491777, dtype=float32), 'bn1.num_batches_tracked': array(235., dtype=float32), 'bn2.weight': array(0.00856509, dtype=float32), 'bn2.bias': array(0.00348357, dtype=float32), 'bn2.running_mean': array(2.4146516, dtype=float32), 'bn2.running_var': array(5.9799104, dtype=float32), 'bn2.num_batches_tracked': array(235., dtype=float32), 'fc1.weight': array(0.27688444, dtype=float32), 'fc1.bias': array(0.00325673, dtype=float32), 'fc2.weight': array(0.19040689, dtype=float32), 'fc2.bias': array(0.00381863, dtype=float32)} of type {'epoch': Number, 'id': Number, 'conv1.weight': Ndarray(shape:[]), 'conv1.bias': Ndarray(shape:[]), 'conv2.weight': Ndarray(shape:[]), 'conv2.bias': Ndarray(shape:[]), 'bn1.weight': Ndarray(shape:[]), 'bn1.bias': Ndarray(shape:[]), 'bn1.running_mean': Ndarray(shape:[]), 'bn1.running_var': Ndarray(shape:[]), 'bn1.num_batches_tracked': Ndarray(shape:[]), 'bn2.weight': Ndarray(shape:[]), 'bn2.bias': Ndarray(shape:[]), 'bn2.running_mean': Ndarray(shape:[]), 'bn2.running_var': Ndarray(shape:[]), 'bn2.num_batches_tracked': Ndarray(shape:[]), 'fc1.weight': Ndarray(shape:[]), 'fc1.bias': Ndarray(shape:[]), 'fc2.weight': Ndarray(shape:[]), 'fc2.bias': Ndarray(shape:[])} is not assignable to {'epoch': None or Number, 'id': None or String, 'conv1.weight': None or Number, 'conv1.bias': None or Number, 'conv2.weight': None or Number, 'conv2.bias': None or Number, 'bn1.weight': None or Number, 'bn1.bias': None or Number, 'bn1.running_mean': None or Number, 'bn1.running_var': None or Number, 'bn1.num_batches_tracked': None or Number, 'bn2.weight': None or Number, 'bn2.bias': None or Number, 'bn2.running_mean': None or Number, 'bn2.running_var': None or Number, 'bn2.num_batches_tracked': None or Number, 'fc1.weight': None or Number, 'fc1.bias': None or Number, 'fc2.weight': None or Number, 'fc2.bias': None or Number}\nKey 'id':\n\tNumber not assignable to None or String\n\t\tNumber not assignable to None\n\tand\n\t\tNumber not assignable to String\nKey 'conv1.weight':\n\tNdarray(shape:[]) not assignable to None or Number\n\t\tNdarray(shape:[]) not assignable to None\n\tand\n\t\tNdarray(shape:[]) not assignable to Number\nKey 'conv1.bias':\n\tNdarray(shape:[]) not assignable to None or Number\n\t\tNdarray(shape:[]) not assignable to None\n\tand\n\t\tNdarray(shape:[]) not assignable to Number\nKey 'conv2.weight':\n\tNdarray(shape:[]) not assignable to None or Number\n\t\tNdarray(shape:[]) not assignable to None\n\tand\n\t\tNdarray(shape:[]) not assignable to Number\nKey 'conv2.bias':\n\tNdarray(shape:[]) not assignable to None or Number\n\t\tNdarray(shape:[]) not assignable to None\n\tand\n\t\tNdarray(shape:[]) not assignable to Number\nKey 'bn1.weight':\n\tNdarray(shape:[]) not assignable to None or Number\n\t\tNdarray(shape:[]) not assignable to None\n\tand\n\t\tNdarray(shape:[]) not assignable to Number\nKey 'bn1.bias':\n\tNdarray(shape:[]) not assignable to None or Number\n\t\tNdarray(shape:[]) not assignable to None\n\tand\n\t\tNdarray(shape:[]) not assignable to Number\nKey 'bn1.running_mean':\n\tNdarray(shape:[]) not assignable to None or Number\n\t\tNdarray(shape:[]) not assignable to None\n\tand\n\t\tNdarray(shape:[]) not assignable to Number\nKey 'bn1.running_var':\n\tNdarray(shape:[]) not assignable to None or Number\n\t\tNdarray(shape:[]) not assignable to None\n\tand\n\t\tNdarray(shape:[]) not assignable to Number\nKey 'bn1.num_batches_tracked':\n\tNdarray(shape:[]) not assignable to None or Number\n\t\tNdarray(shape:[]) not assignable to None\n\tand\n\t\tNdarray(shape:[]) not assignable to Number\nKey 'bn2.weight':\n\tNdarray(shape:[]) not assignable to None or Number\n\t\tNdarray(shape:[]) not assignable to None\n\tand\n\t\tNdarray(shape:[]) not assignable to Number\nKey 'bn2.bias':\n\tNdarray(shape:[]) not assignable to None or Number\n\t\tNdarray(shape:[]) not assignable to None\n\tand\n\t\tNdarray(shape:[]) not assignable to Number\nKey 'bn2.running_mean':\n\tNdarray(shape:[]) not assignable to None or Number\n\t\tNdarray(shape:[]) not assignable to None\n\tand\n\t\tNdarray(shape:[]) not assignable to Number\nKey 'bn2.running_var':\n\tNdarray(shape:[]) not assignable to None or Number\n\t\tNdarray(shape:[]) not assignable to None\n\tand\n\t\tNdarray(shape:[]) not assignable to Number\nKey 'bn2.num_batches_tracked':\n\tNdarray(shape:[]) not assignable to None or Number\n\t\tNdarray(shape:[]) not assignable to None\n\tand\n\t\tNdarray(shape:[]) not assignable to Number\nKey 'fc1.weight':\n\tNdarray(shape:[]) not assignable to None or Number\n\t\tNdarray(shape:[]) not assignable to None\n\tand\n\t\tNdarray(shape:[]) not assignable to Number\nKey 'fc1.bias':\n\tNdarray(shape:[]) not assignable to None or Number\n\t\tNdarray(shape:[]) not assignable to None\n\tand\n\t\tNdarray(shape:[]) not assignable to Number\nKey 'fc2.weight':\n\tNdarray(shape:[]) not assignable to None or Number\n\t\tNdarray(shape:[]) not assignable to None\n\tand\n\t\tNdarray(shape:[]) not assignable to Number\nKey 'fc2.bias':\n\tNdarray(shape:[]) not assignable to None or Number\n\t\tNdarray(shape:[]) not assignable to None\n\tand\n\t\tNdarray(shape:[]) not assignable to Number"
     ]
    }
   ],
   "source": [
    "simulator.run()"
   ]
  }
 ],
 "metadata": {
  "kernelspec": {
   "display_name": "Python 3.9.13 ('phy')",
   "language": "python",
   "name": "python3"
  },
  "language_info": {
   "codemirror_mode": {
    "name": "ipython",
    "version": 3
   },
   "file_extension": ".py",
   "mimetype": "text/x-python",
   "name": "python",
   "nbconvert_exporter": "python",
   "pygments_lexer": "ipython3",
   "version": "3.9.13"
  },
  "orig_nbformat": 4,
  "vscode": {
   "interpreter": {
    "hash": "0cb021d9b7a135a5790b55a44d45add36b9252e99d312eac7d5e6a78cea59c91"
   }
  }
 },
 "nbformat": 4,
 "nbformat_minor": 2
}
