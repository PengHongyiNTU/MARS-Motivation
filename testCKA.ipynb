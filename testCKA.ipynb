{
 "cells": [
  {
   "cell_type": "code",
   "execution_count": 8,
   "metadata": {},
   "outputs": [],
   "source": [
    "import torch\n",
    "import torch.nn as nn\n",
    "from torch_cka import CKA"
   ]
  },
  {
   "cell_type": "code",
   "execution_count": 19,
   "metadata": {},
   "outputs": [],
   "source": [
    "model1 = torch.nn.Sequential(nn.Linear(10, 10), nn.Linear(10, 1))\n",
    "model2 = torch.nn.Sequential(nn.Linear(10, 10), nn.Linear(10, 1))\n",
    "x = torch.randn(100, 10)\n",
    "y = torch.ones(100, 1)\n",
    "dataset = torch.utils.data.TensorDataset(x, y)\n",
    "loader = torch.utils.data.DataLoader(\n",
    "    dataset, batch_size=len(dataset), shuffle=True)\n"
   ]
  },
  {
   "cell_type": "code",
   "execution_count": 20,
   "metadata": {},
   "outputs": [],
   "source": [
    "model1 = model1.cuda()\n",
    "optimizer = torch.optim.SGD(model1.parameters(), lr=0.01)\n",
    "criterion = nn.CrossEntropyLoss()\n",
    "for x, y in loader:\n",
    "    optimizer.zero_grad()\n",
    "    output = model1(x.cuda())\n",
    "    loss = criterion(output, y.cuda())\n",
    "    loss.backward()\n",
    "    optimizer.step()"
   ]
  },
  {
   "cell_type": "code",
   "execution_count": 21,
   "metadata": {},
   "outputs": [
    {
     "name": "stderr",
     "output_type": "stream",
     "text": [
      "c:\\Users\\HONGYI001\\Anaconda3\\envs\\VFL\\lib\\site-packages\\torch_cka\\cka.py:145: UserWarning: Dataloader for Model 2 is not given. Using the same dataloader for both models.\n",
      "  warn(\"Dataloader for Model 2 is not given. Using the same dataloader for both models.\")\n",
      "| Comparing features |: 100%|██████████| 1/1 [00:00<00:00, 50.13it/s]\n"
     ]
    }
   ],
   "source": [
    "cka = CKA(model1, model2,\n",
    "          model1_name = 'model1', model2_name = 'model2',\n",
    "          device = 'cuda')\n",
    "cka.compare(loader)\n",
    "results = cka.export()"
   ]
  },
  {
   "cell_type": "code",
   "execution_count": 22,
   "metadata": {},
   "outputs": [
    {
     "data": {
      "text/plain": [
       "{'model1_name': 'model1',\n",
       " 'model2_name': 'model2',\n",
       " 'CKA': tensor([[-0.0036, -0.0023, -0.0023],\n",
       "         [-0.0162, -0.0054, -0.0054],\n",
       "         [-0.0162, -0.0054, -0.0054]]),\n",
       " 'model1_layers': ['', '0', '1'],\n",
       " 'model2_layers': ['', '0', '1'],\n",
       " 'dataset1_name': '<torch.utils.data.dataset.TensorDataset object at 0x000001F1A3ECF8B0>',\n",
       " 'dataset2_name': '<torch.utils.data.dataset.TensorDataset object at 0x000001F1A3ECF8B0>'}"
      ]
     },
     "execution_count": 22,
     "metadata": {},
     "output_type": "execute_result"
    }
   ],
   "source": [
    "results"
   ]
  }
 ],
 "metadata": {
  "kernelspec": {
   "display_name": "Python 3.9.13 ('phy')",
   "language": "python",
   "name": "python3"
  },
  "language_info": {
   "codemirror_mode": {
    "name": "ipython",
    "version": 3
   },
   "file_extension": ".py",
   "mimetype": "text/x-python",
   "name": "python",
   "nbconvert_exporter": "python",
   "pygments_lexer": "ipython3",
   "version": "3.9.13"
  },
  "orig_nbformat": 4,
  "vscode": {
   "interpreter": {
    "hash": "0cb021d9b7a135a5790b55a44d45add36b9252e99d312eac7d5e6a78cea59c91"
   }
  }
 },
 "nbformat": 4,
 "nbformat_minor": 2
}
