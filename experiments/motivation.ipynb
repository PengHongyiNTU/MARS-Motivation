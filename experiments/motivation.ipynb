{
 "cells": [
  {
   "cell_type": "code",
   "execution_count": 1,
   "metadata": {},
   "outputs": [],
   "source": [
    "import torch \n",
    "import numpy as np\n",
    "from torchvision import transforms\n",
    "from torch.utils.data import DataLoader\n",
    "from torchvision.datasets import MNIST\n",
    "import matplotlib.pyplot as plt\n",
    "from collections import Counter"
   ]
  },
  {
   "cell_type": "code",
   "execution_count": 2,
   "metadata": {},
   "outputs": [],
   "source": [
    "# Load the dataset \n",
    "transforms = transforms.Compose([transforms.ToTensor(), \n",
    "    transforms.Normalize(mean=[0.1307], std=[0.3081])])\n",
    "data_train = MNIST(root='./data', train=True, transform=transforms, download=False)\n",
    "data_test = MNIST(root='/data', train=False, transform=transforms, download=False)"
   ]
  },
  {
   "cell_type": "markdown",
   "metadata": {},
   "source": [
    "Test Distribution"
   ]
  },
  {
   "cell_type": "code",
   "execution_count": 3,
   "metadata": {},
   "outputs": [
    {
     "data": {
      "image/png": "[encoded data removed]",
      "text/plain": [
       "<Figure size 432x288 with 1 Axes>"
      ]
     },
     "metadata": {
      "needs_background": "light"
     },
     "output_type": "display_data"
    }
   ],
   "source": [
    "test_classes = [label for _, label in data_test]\n",
    "test_dist = Counter(test_classes)\n",
    "test_dist = sorted(test_dist.items())\n",
    "x = [label for label, _ in test_dist]\n",
    "y = [num for _, num in test_dist]\n",
    "plt.bar(x, y)\n",
    "plt.xticks(x)\n",
    "plt.ylabel(\"Number of Images\")\n",
    "plt.xlabel(\"Digit\")\n",
    "plt.title(\"Distribution of Digits in Test Set\")\n",
    "plt.show()"
   ]
  },
  {
   "cell_type": "markdown",
   "metadata": {},
   "source": [
    "Split the Dataset"
   ]
  },
  {
   "cell_type": "code",
   "execution_count": 4,
   "metadata": {},
   "outputs": [],
   "source": [
    "data_train, data_val = torch.utils.data.random_split(data_train, [50000, 10000])"
   ]
  },
  {
   "cell_type": "markdown",
   "metadata": {},
   "source": [
    "Add Label Noise"
   ]
  },
  {
   "cell_type": "code",
   "execution_count": 5,
   "metadata": {},
   "outputs": [
    {
     "data": {
      "text/plain": [
       "Noise Type : uniform, Corruption Probability : 0.5, Corruption Matrix : [[0.55 0.05 0.05 0.05 0.05 0.05 0.05 0.05 0.05 0.05]\n",
       " [0.05 0.55 0.05 0.05 0.05 0.05 0.05 0.05 0.05 0.05]\n",
       " [0.05 0.05 0.55 0.05 0.05 0.05 0.05 0.05 0.05 0.05]\n",
       " [0.05 0.05 0.05 0.55 0.05 0.05 0.05 0.05 0.05 0.05]\n",
       " [0.05 0.05 0.05 0.05 0.55 0.05 0.05 0.05 0.05 0.05]\n",
       " [0.05 0.05 0.05 0.05 0.05 0.55 0.05 0.05 0.05 0.05]\n",
       " [0.05 0.05 0.05 0.05 0.05 0.05 0.55 0.05 0.05 0.05]\n",
       " [0.05 0.05 0.05 0.05 0.05 0.05 0.05 0.55 0.05 0.05]\n",
       " [0.05 0.05 0.05 0.05 0.05 0.05 0.05 0.05 0.55 0.05]\n",
       " [0.05 0.05 0.05 0.05 0.05 0.05 0.05 0.05 0.05 0.55]]"
      ]
     },
     "execution_count": 5,
     "metadata": {},
     "output_type": "execute_result"
    }
   ],
   "source": [
    "from Noise import MyDataSetNoisyWrapper\n",
    "uniform_noisy_dataset = MyDataSetNoisyWrapper(data_train, \n",
    "    corruption_prob=0.5, num_classes=10, noise_type='uniform')\n",
    "uniform_noisy_dataset"
   ]
  },
  {
   "cell_type": "code",
   "execution_count": 6,
   "metadata": {},
   "outputs": [
    {
     "data": {
      "text/plain": [
       "Noise Type : diag-1, Corruption Probability : 0.5, Corruption Matrix : [[0.5 0.  0.  0.  0.  0.  0.5 0.  0.  0. ]\n",
       " [0.  0.5 0.  0.  0.  0.  0.  0.  0.  0.5]\n",
       " [0.  0.  0.5 0.  0.  0.  0.5 0.  0.  0. ]\n",
       " [0.5 0.  0.  0.5 0.  0.  0.  0.  0.  0. ]\n",
       " [0.5 0.  0.  0.  0.5 0.  0.  0.  0.  0. ]\n",
       " [0.  0.5 0.  0.  0.  0.5 0.  0.  0.  0. ]\n",
       " [0.  0.  0.  0.  0.  0.  0.5 0.  0.5 0. ]\n",
       " [0.  0.  0.  0.  0.  0.  0.5 0.5 0.  0. ]\n",
       " [0.  0.  0.5 0.  0.  0.  0.  0.  0.5 0. ]\n",
       " [0.  0.  0.  0.  0.5 0.  0.  0.  0.  0.5]]"
      ]
     },
     "execution_count": 6,
     "metadata": {},
     "output_type": "execute_result"
    }
   ],
   "source": [
    "diag1_noisy_dataset = MyDataSetNoisyWrapper(data_train, \n",
    "    corruption_prob=0.5, num_classes=10, noise_type='diag-1')\n",
    "diag1_noisy_dataset"
   ]
  },
  {
   "cell_type": "code",
   "execution_count": 7,
   "metadata": {},
   "outputs": [
    {
     "data": {
      "text/plain": [
       "Noise Type : diag-2, Corruption Probability : 0.5, Corruption Matrix : [[0.5  0.   0.   0.25 0.   0.   0.   0.   0.   0.25]\n",
       " [0.   0.5  0.   0.   0.25 0.   0.   0.   0.25 0.  ]\n",
       " [0.   0.25 0.5  0.   0.   0.   0.   0.   0.25 0.  ]\n",
       " [0.   0.   0.   0.5  0.25 0.   0.   0.   0.25 0.  ]\n",
       " [0.   0.   0.25 0.   0.5  0.25 0.   0.   0.   0.  ]\n",
       " [0.   0.   0.   0.   0.25 0.5  0.   0.25 0.   0.  ]\n",
       " [0.   0.   0.25 0.   0.   0.   0.5  0.   0.   0.25]\n",
       " [0.   0.   0.   0.   0.   0.25 0.   0.5  0.25 0.  ]\n",
       " [0.   0.   0.   0.   0.   0.25 0.25 0.   0.5  0.  ]\n",
       " [0.   0.   0.   0.   0.25 0.25 0.   0.   0.   0.5 ]]"
      ]
     },
     "execution_count": 7,
     "metadata": {},
     "output_type": "execute_result"
    }
   ],
   "source": [
    "diag2_noisy_dataset = MyDataSetNoisyWrapper(data_train,\n",
    "    corruption_prob=0.5, num_classes=10, noise_type='diag-2')\n",
    "diag2_noisy_dataset"
   ]
  },
  {
   "cell_type": "markdown",
   "metadata": {},
   "source": [
    "Training Set"
   ]
  },
  {
   "cell_type": "code",
   "execution_count": 8,
   "metadata": {},
   "outputs": [],
   "source": [
    "# Lets use diag 2 \n",
    "corrupted_train = MyDataSetNoisyWrapper(data_train,\n",
    "    corruption_prob=0.5, num_classes=10, noise_type='diag-2')"
   ]
  },
  {
   "cell_type": "code",
   "execution_count": 9,
   "metadata": {},
   "outputs": [
    {
     "data": {
      "image/png": "[encoded data removed]",
      "text/plain": [
       "<Figure size 432x288 with 1 Axes>"
      ]
     },
     "metadata": {
      "needs_background": "light"
     },
     "output_type": "display_data"
    }
   ],
   "source": [
    "train_classes = [label for _, label in corrupted_train]\n",
    "train_dist = Counter(train_classes)\n",
    "train_dist = sorted(train_dist.items())\n",
    "x = [label for label, _ in train_dist]\n",
    "y = [num for _, num in train_dist]\n",
    "plt.bar(x, y)\n",
    "plt.xticks(x)\n",
    "plt.ylabel(\"Number of Images\")\n",
    "plt.xlabel(\"Digit\")\n",
    "plt.title(\"Distribution of Digits in Training Set\")\n",
    "plt.show()"
   ]
  },
  {
   "cell_type": "code",
   "execution_count": 10,
   "metadata": {},
   "outputs": [
    {
     "data": {
      "image/png": "[encoded data removed]",
      "text/plain": [
       "<Figure size 432x288 with 1 Axes>"
      ]
     },
     "metadata": {
      "needs_background": "light"
     },
     "output_type": "display_data"
    }
   ],
   "source": [
    "val_classes = [label for _, label in data_val]\n",
    "val_dist = Counter(val_classes)\n",
    "val_dist = sorted(val_dist.items())\n",
    "x = [label for label, _ in val_dist]\n",
    "y = [num for _, num in val_dist]\n",
    "plt.bar(x, y)\n",
    "plt.xticks(x)\n",
    "plt.ylabel(\"Number of Images\")\n",
    "plt.xlabel(\"Digit\")\n",
    "plt.title(\"Distribution of Digits in Validation Set\")\n",
    "plt.show()"
   ]
  },
  {
   "cell_type": "markdown",
   "metadata": {},
   "source": [
    "---"
   ]
  },
  {
   "cell_type": "markdown",
   "metadata": {},
   "source": [
    "Split the dataset "
   ]
  },
  {
   "cell_type": "code",
   "execution_count": 13,
   "metadata": {},
   "outputs": [],
   "source": [
    "from Split import LDASplitter\n",
    "CLIENT_NUM = 10\n",
    "spliitter = LDASplitter(client_num=CLIENT_NUM, alpha=0.5)\n",
    "data_train_list = spliitter(corrupted_train)"
   ]
  },
  {
   "cell_type": "code",
   "execution_count": 26,
   "metadata": {},
   "outputs": [
    {
     "data": {
      "image/png": "[encoded data removed]",
      "text/plain": [
       "<Figure size 1152x576 with 10 Axes>"
      ]
     },
     "metadata": {
      "needs_background": "light"
     },
     "output_type": "display_data"
    }
   ],
   "source": [
    "fig, axs = plt.subplots(5, 2, sharex=True, sharey=True, figsize=(16, 8))\n",
    "fig.tight_layout()\n",
    "for i, ax in enumerate(axs.flat):\n",
    "    client_data = data_train_list[i]\n",
    "    classes = [label for _, label in client_data]\n",
    "    dist = Counter(classes)\n",
    "    dist = sorted(dist.items())\n",
    "    x = [label for label, _ in dist]\n",
    "    y = [num for _, num in dist]\n",
    "    ax.bar(x, y)\n",
    "    ax.set_title(f\"Client {i}\")\n",
    "    ax.set_xticks(x)"
   ]
  },
  {
   "cell_type": "markdown",
   "metadata": {},
   "source": [
    "---\n",
    "Basic FedAvg"
   ]
  },
  {
   "cell_type": "code",
   "execution_count": 32,
   "metadata": {},
   "outputs": [
    {
     "data": {
      "text/plain": [
       "tensor([[-0.2748, -0.0867, -0.0408,  0.2319,  0.3187, -0.3521,  0.2377,  0.0494,\n",
       "          0.2221,  0.8561]], grad_fn=<AddmmBackward0>)"
      ]
     },
     "execution_count": 32,
     "metadata": {},
     "output_type": "execute_result"
    }
   ],
   "source": [
    "from Model import ConvNet2\n",
    "model = ConvNet2(in_channels=1, h=28, w=28, class_num=10, \n",
    "    hidden=256, use_bn=True, dropout=0.3)\n",
    "# Test Model Output\n",
    "model(torch.randn(1, 1, 28, 28))"
   ]
  },
  {
   "cell_type": "code",
   "execution_count": 33,
   "metadata": {},
   "outputs": [],
   "source": [
    "fed_data_loaders = [\n",
    "    DataLoader(client_data, batch_size=128, shuffle=True) for  client_data in data_train_list\n",
    "]\n",
    "fed_client_models = [\n",
    "    ConvNet2(in_channels=1, h=28, w=28, class_num=10, hidden=256, use_bn=True, dropout=0.3) for _ in range(CLIENT_NUM)     \n",
    "]\n",
    "server_model = ConvNet2(in_channels=1, h=28, w=28, class_num=10, hidden=256, use_bn=True, dropout=0.3)"
   ]
  },
  {
   "cell_type": "code",
   "execution_count": null,
   "metadata": {},
   "outputs": [],
   "source": [
    "# Train \n",
    "# Configuration\n",
    "LOCAL_STEP = 5\n",
    "ROUND = 50\n",
    "\n",
    "for round in ROUND: \n",
    "    print(f\"Round {round}\")\n",
    "    for local_step in range(LOCAL_STEP):\n",
    "        print(f\"Local Step {local_step}\")\n",
    "        # Train on local\n",
    "        for client_id, client_model in enumerate(fed_client_models):\n",
    "            print(f\"Client {client_id}\")\n",
    "            for data, target in fed_data_loaders[client_id]:\n",
    "                data, target = data.to(device), target.to(device)\n",
    "                output = client_model(data)\n",
    "                loss = F.cross_entropy(output, target)\n",
    "                loss.backward()\n",
    "                client_model.optimizer.step()\n",
    "                client_model.optimizer.zero_grad()\n",
    "        # Train on server\n",
    "        for data, target in data_train:\n",
    "            data, target = data.to(device), target.to(device)\n",
    "            output = server_model(data)\n",
    "            loss = F.cross_entropy(output, target)\n",
    "            loss.backward()\n",
    "            server_model.optimizer.step()\n",
    "            server_model.optimizer.zero_grad()\n",
    "        # Test on local\n",
    "        for client_id, client_model in enumerate(fed_client_models):\n",
    "            print(f\"Client {client_id}\")\n",
    "            for data, target in fed_data_loaders[client_id]:\n",
    "                data, target = data.to(device), target.to(device)\n",
    "                output = client_model(data)\n",
    "                loss = F.cross_entropy(output, target)\n",
    "                loss.backward()\n",
    "                client_model.optimizer.step()\n",
    "                client_model.optimizer.zero_grad()\n",
    "        # Test on server\n",
    "        for data, target in data_train:\n",
    "            data, target = data.to(device), target.to(device)\n",
    "            output = server_model(data)\n",
    "            loss = F.cross_entropy(output, target)\n",
    "            loss.backward()\n",
    "            server_model.optimizer.step()\n",
    "            server_model.optimizer.zero_grad()\n",
    "        # Test on local\n",
    "        for client_id, client_model in\n"
   ]
  },
  {
   "cell_type": "markdown",
   "metadata": {},
   "source": [
    "---\n",
    "Meta-Net FedAvg"
   ]
  },
  {
   "cell_type": "markdown",
   "metadata": {},
   "source": [
    "---\n",
    "Basic FedSGD"
   ]
  },
  {
   "cell_type": "markdown",
   "metadata": {},
   "source": [
    "---\n",
    "Meta-Net FedSGD"
   ]
  }
 ],
 "metadata": {
  "interpreter": {
   "hash": "81372f56c26bc2c5a7c31580102b7ff4afa04f654a03c5d11f4f83c4ed968657"
  },
  "kernelspec": {
   "display_name": "Python 3.9.7 ('VFL')",
   "language": "python",
   "name": "python3"
  },
  "language_info": {
   "codemirror_mode": {
    "name": "ipython",
    "version": 3
   },
   "file_extension": ".py",
   "mimetype": "text/x-python",
   "name": "python",
   "nbconvert_exporter": "python",
   "pygments_lexer": "ipython3",
   "version": "3.9.12"
  },
  "orig_nbformat": 4
 },
 "nbformat": 4,
 "nbformat_minor": 2
}
