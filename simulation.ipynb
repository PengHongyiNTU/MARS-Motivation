{
 "cells": [
  {
   "cell_type": "code",
   "execution_count": 1,
   "metadata": {},
   "outputs": [
    {
     "name": "stderr",
     "output_type": "stream",
     "text": [
      "Failed to detect the name of this notebook, you can set it manually with the WANDB_NOTEBOOK_NAME environment variable to enable code saving.\n",
      "\u001b[34m\u001b[1mwandb\u001b[0m: Currently logged in as: \u001b[33mphy\u001b[0m. Use \u001b[1m`wandb login --relogin`\u001b[0m to force relogin\n"
     ]
    },
    {
     "data": {
      "text/plain": [
       "True"
      ]
     },
     "execution_count": 1,
     "metadata": {},
     "output_type": "execute_result"
    }
   ],
   "source": [
    "import wandb\n",
    "wandb.login()"
   ]
  },
  {
   "cell_type": "code",
   "execution_count": 2,
   "metadata": {},
   "outputs": [
    {
     "data": {
      "text/plain": [
       "{'saving_dir': 'experiments_1',\n",
       " 'dataset': 'MNIST',\n",
       " 'split': 'iid',\n",
       " 'num_clients': 10,\n",
       " 'imbalanced_ratio': 5,\n",
       " 'corruption_prob': 0.5,\n",
       " 'algorithm': 'FedAvg',\n",
       " 'model': 'ConvNet2',\n",
       " 'use_gpu': True,\n",
       " 'epoch': 100,\n",
       " 'batch_size': 32,\n",
       " 'test_batch_size': 1024,\n",
       " 'lr': 0.01,\n",
       " 'local_epoch': 5,\n",
       " 'num_clients_per_round': 5,\n",
       " 'log_freq': 100}"
      ]
     },
     "execution_count": 2,
     "metadata": {},
     "output_type": "execute_result"
    }
   ],
   "source": [
    "import yaml \n",
    "cfg = yaml.safe_load(open('sample.yaml'))\n",
    "cfg"
   ]
  },
  {
   "cell_type": "code",
   "execution_count": 3,
   "metadata": {},
   "outputs": [],
   "source": [
    "from Model import ConvNet2\n",
    "\n",
    "model = ConvNet2(in_channels=3, h=28, w=28, hidden=2048, class_num=10,  dropout=.0)\n",
    "dataset_name = cfg['dataset']\n",
    "from Data import load_centralized_dataset\n",
    "trainset, testset = load_centralized_dataset(dataset_name, validation_split=0, download=False)\n"
   ]
  },
  {
   "cell_type": "code",
   "execution_count": 4,
   "metadata": {},
   "outputs": [],
   "source": [
    "import torchvision\n",
    "transforms = torchvision.transforms.Compose([torchvision.transforms.ToTensor()])"
   ]
  },
  {
   "cell_type": "code",
   "execution_count": 5,
   "metadata": {},
   "outputs": [
    {
     "name": "stdout",
     "output_type": "stream",
     "text": [
      "Splitting dataset into 10 clients.\n",
      "{0: 6000, 1: 6000, 2: 6000, 3: 6000, 4: 6000, 5: 6000, 6: 6000, 7: 6000, 8: 6000, 9: 6000}\n"
     ]
    }
   ],
   "source": [
    "from Split import IIDSplitter\n",
    "client_num = 10\n",
    "iid_splliter = IIDSplitter(client_num)\n",
    "clients_dataidx_map = iid_splliter(trainset)"
   ]
  },
  {
   "cell_type": "code",
   "execution_count": 6,
   "metadata": {},
   "outputs": [
    {
     "data": {
      "text/html": [
       "wandb version 0.12.21 is available!  To upgrade, please run:\n",
       " $ pip install wandb --upgrade"
      ],
      "text/plain": [
       "<IPython.core.display.HTML object>"
      ]
     },
     "metadata": {},
     "output_type": "display_data"
    },
    {
     "data": {
      "text/html": [
       "Tracking run with wandb version 0.12.16"
      ],
      "text/plain": [
       "<IPython.core.display.HTML object>"
      ]
     },
     "metadata": {},
     "output_type": "display_data"
    },
    {
     "data": {
      "text/html": [
       "Run data is saved locally in <code>c:\\Users\\HONGYI001\\Desktop\\Metanet-Motivation\\wandb\\run-20220803_222002-a3ro6mce</code>"
      ],
      "text/plain": [
       "<IPython.core.display.HTML object>"
      ]
     },
     "metadata": {},
     "output_type": "display_data"
    },
    {
     "data": {
      "text/html": [
       "Syncing run <strong><a href=\"https://wandb.ai/phy/debug/runs/a3ro6mce\" target=\"_blank\">confused-violet-3</a></strong> to <a href=\"https://wandb.ai/phy/debug\" target=\"_blank\">Weights & Biases</a> (<a href=\"https://wandb.me/run\" target=\"_blank\">docs</a>)<br/>"
      ],
      "text/plain": [
       "<IPython.core.display.HTML object>"
      ]
     },
     "metadata": {},
     "output_type": "display_data"
    },
    {
     "data": {
      "text/html": [
       "Waiting for W&B process to finish... <strong style=\"color:red\">(failed 1).</strong> Press Ctrl-C to abort syncing."
      ],
      "text/plain": [
       "<IPython.core.display.HTML object>"
      ]
     },
     "metadata": {},
     "output_type": "display_data"
    },
    {
     "data": {
      "application/vnd.jupyter.widget-view+json": {
       "model_id": "77c33db5e0a64434b3a3072c02180334",
       "version_major": 2,
       "version_minor": 0
      },
      "text/plain": [
       "VBox(children=(Label(value='0.001 MB of 0.001 MB uploaded (0.000 MB deduped)\\r'), FloatProgress(value=1.0, max…"
      ]
     },
     "metadata": {},
     "output_type": "display_data"
    },
    {
     "data": {
      "text/html": [
       "Synced <strong style=\"color:#cdcd00\">confused-violet-3</strong>: <a href=\"https://wandb.ai/phy/debug/runs/a3ro6mce\" target=\"_blank\">https://wandb.ai/phy/debug/runs/a3ro6mce</a><br/>Synced 4 W&B file(s), 0 media file(s), 0 artifact file(s) and 0 other file(s)"
      ],
      "text/plain": [
       "<IPython.core.display.HTML object>"
      ]
     },
     "metadata": {},
     "output_type": "display_data"
    },
    {
     "data": {
      "text/html": [
       "Find logs at: <code>.\\wandb\\run-20220803_222002-a3ro6mce\\logs</code>"
      ],
      "text/plain": [
       "<IPython.core.display.HTML object>"
      ]
     },
     "metadata": {},
     "output_type": "display_data"
    },
    {
     "ename": "KeyError",
     "evalue": "'local_round'",
     "output_type": "error",
     "traceback": [
      "\u001b[1;31m---------------------------------------------------------------------------\u001b[0m",
      "\u001b[1;31mKeyError\u001b[0m                                  Traceback (most recent call last)",
      "\u001b[1;32mc:\\Users\\HONGYI001\\Desktop\\Metanet-Motivation\\simulation.ipynb Cell 6\u001b[0m in \u001b[0;36m<cell line: 2>\u001b[1;34m()\u001b[0m\n\u001b[0;32m      <a href='vscode-notebook-cell:/c%3A/Users/HONGYI001/Desktop/Metanet-Motivation/simulation.ipynb#ch0000005?line=1'>2</a>\u001b[0m \u001b[39mwith\u001b[39;00m wandb\u001b[39m.\u001b[39minit(project\u001b[39m=\u001b[39m\u001b[39m'\u001b[39m\u001b[39mdebug\u001b[39m\u001b[39m'\u001b[39m, config\u001b[39m=\u001b[39mcfg):\n\u001b[0;32m      <a href='vscode-notebook-cell:/c%3A/Users/HONGYI001/Desktop/Metanet-Motivation/simulation.ipynb#ch0000005?line=2'>3</a>\u001b[0m     trainer \u001b[39m=\u001b[39m LocalTrainer(model, clients_dataidx_map, trainset, testset, transforms, cfg)                 \n\u001b[1;32m----> <a href='vscode-notebook-cell:/c%3A/Users/HONGYI001/Desktop/Metanet-Motivation/simulation.ipynb#ch0000005?line=3'>4</a>\u001b[0m     trainer\u001b[39m.\u001b[39;49mtrain()\n\u001b[0;32m      <a href='vscode-notebook-cell:/c%3A/Users/HONGYI001/Desktop/Metanet-Motivation/simulation.ipynb#ch0000005?line=4'>5</a>\u001b[0m     trainer\u001b[39m.\u001b[39mevaluate()\n",
      "File \u001b[1;32mc:\\Users\\HONGYI001\\Desktop\\Metanet-Motivation\\Trainer.py:92\u001b[0m, in \u001b[0;36mLocalTrainer.train\u001b[1;34m(self)\u001b[0m\n\u001b[0;32m     90\u001b[0m \u001b[39mif\u001b[39;00m \u001b[39m'\u001b[39m\u001b[39mweight_decay\u001b[39m\u001b[39m'\u001b[39m \u001b[39min\u001b[39;00m \u001b[39mself\u001b[39m\u001b[39m.\u001b[39mcfg:\n\u001b[0;32m     91\u001b[0m     weight_decay \u001b[39m=\u001b[39m \u001b[39mself\u001b[39m\u001b[39m.\u001b[39mcfg[\u001b[39m'\u001b[39m\u001b[39mweight_decay\u001b[39m\u001b[39m'\u001b[39m]\n\u001b[1;32m---> 92\u001b[0m local_epoch \u001b[39m=\u001b[39m \u001b[39mself\u001b[39;49m\u001b[39m.\u001b[39;49mcfg[\u001b[39m'\u001b[39;49m\u001b[39mlocal_round\u001b[39;49m\u001b[39m'\u001b[39;49m]\n\u001b[0;32m     93\u001b[0m num_clients_per_round \u001b[39m=\u001b[39m \u001b[39mself\u001b[39m\u001b[39m.\u001b[39mcfg[\u001b[39m'\u001b[39m\u001b[39mnum_clients_per_round\u001b[39m\u001b[39m'\u001b[39m]\n\u001b[0;32m     94\u001b[0m \u001b[39mprint\u001b[39m(\u001b[39m'\u001b[39m\u001b[39mTraining Starts!\u001b[39m\u001b[39m'\u001b[39m)\n",
      "\u001b[1;31mKeyError\u001b[0m: 'local_round'"
     ]
    }
   ],
   "source": [
    "from Trainer import LocalTrainer\n",
    "with wandb.init(project='debug', config=cfg):\n",
    "    trainer = LocalTrainer(model, clients_dataidx_map, trainset, testset, transforms, cfg)                 \n",
    "    trainer.train()\n",
    "    trainer.evaluate()\n"
   ]
  }
 ],
 "metadata": {
  "kernelspec": {
   "display_name": "Python 3.9.12 ('VFL')",
   "language": "python",
   "name": "python3"
  },
  "language_info": {
   "codemirror_mode": {
    "name": "ipython",
    "version": 3
   },
   "file_extension": ".py",
   "mimetype": "text/x-python",
   "name": "python",
   "nbconvert_exporter": "python",
   "pygments_lexer": "ipython3",
   "version": "3.9.12"
  },
  "orig_nbformat": 4,
  "vscode": {
   "interpreter": {
    "hash": "81372f56c26bc2c5a7c31580102b7ff4afa04f654a03c5d11f4f83c4ed968657"
   }
  }
 },
 "nbformat": 4,
 "nbformat_minor": 2
}
